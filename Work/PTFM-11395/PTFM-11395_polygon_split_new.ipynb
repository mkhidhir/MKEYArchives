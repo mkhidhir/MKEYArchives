{
 "cells": [
  {
   "cell_type": "markdown",
   "metadata": {},
   "source": [
    "Import all the necessary libraries"
   ]
  },
  {
   "cell_type": "code",
   "execution_count": 101,
   "metadata": {},
   "outputs": [],
   "source": [
    "import shapely\n",
    "from shapely.geometry import box,Polygon\n",
    "from shapely.wkt import loads\n",
    "import csv\n",
    "import folium\n",
    "import geopandas\n",
    "from fiona.crs import from_epsg"
   ]
  },
  {
   "cell_type": "markdown",
   "metadata": {},
   "source": [
    "Step 1 : Read the shape file which is storted locally to derive the geometry"
   ]
  },
  {
   "cell_type": "code",
   "execution_count": null,
   "metadata": {},
   "outputs": [],
   "source": [
    "##read a wkt file which is in format lon,lat\n",
    "data=[]\n",
    "with open('myfilepath.wkt',mode='r') as wktfile:  ##add the path where the file is stored locally\n",
    "    reader = csv.reader(wktfile, delimiter='\\t')\n",
    "    for i,row in enumerate(reader):\n",
    "        data.append(row[0])\n",
    "       \n",
    "for wkt in data:\n",
    "    geometry=loads(wkt)\n",
    "\n",
    "#print(geometry)"
   ]
  },
  {
   "cell_type": "markdown",
   "metadata": {},
   "source": [
    "Step 2 :  Transform the geometry to GeoDataFrame"
   ]
  },
  {
   "cell_type": "code",
   "execution_count": null,
   "metadata": {},
   "outputs": [],
   "source": [
    "#transfrom the polygon to GeoDataFrame\n",
    "gdf = geopandas.GeoSeries(geometry)\n",
    "gdf.crs = 'EPSG:4326'\n",
    "\n",
    "gdf_4326 = geopandas.GeoDataFrame(gdf)\n",
    "gdf_4326 = gdf.to_crs('EPSG:4326')\n",
    "\n",
    "# Ensure to remove islands\n",
    "gdf_4326 = gdf_4326.apply(lambda g: Polygon(g.exterior))\n",
    "\n",
    "# Create single polygon geometries\n",
    "gdf_4326 = gdf_4326.explode()\n"
   ]
  },
  {
   "cell_type": "markdown",
   "metadata": {},
   "source": [
    "Step 3: Divide the box based on (ABS((MAXLAT - MINLAT) + (MAXLON - MINLON)) <= 2)"
   ]
  },
  {
   "cell_type": "code",
   "execution_count": null,
   "metadata": {},
   "outputs": [],
   "source": [
    "\n",
    "#A function which divides the initial geometry to boxes \n",
    "\n",
    "def divide_bounding_box(geometry,delta=2):\n",
    "    result = []\n",
    "    min_lon, min_lat, max_lon, max_lat = geometry.bounds\n",
    "    queue = [(min_lon, min_lat, max_lon, max_lat)]\n",
    "\n",
    "    while queue:\n",
    "        min_lon, min_lat, max_lon, max_lat = queue.pop(0)\n",
    "        \n",
    "        if abs((max_lat - min_lat) + (max_lon - min_lon)) <= delta:\n",
    "            \n",
    "            segment_box = box(min_lon, min_lat, max_lon, max_lat)\n",
    "            \n",
    "            if segment_box.intersects(geometry):\n",
    "                result.append((min_lon, min_lat, max_lon, max_lat))\n",
    "                \n",
    "        else:\n",
    "            mid_lat = (min_lat + max_lat) / 2\n",
    "            mid_lon = (min_lon + max_lon) / 2\n",
    "\n",
    "            queue.append((min_lon, min_lat, mid_lon, mid_lat))\n",
    "            queue.append((mid_lon, min_lat, max_lon, mid_lat))\n",
    "            queue.append((min_lon, mid_lat, mid_lon, max_lat))\n",
    "            queue.append((mid_lon, mid_lat, max_lon, max_lat))\n",
    "\n",
    "    \n",
    "    return result\n",
    "\n",
    "# Get the divided boxes\n",
    "divided_boxes = divide_bounding_box(geometry,2)\n",
    "\n",
    "#print(divided_boxes)\n"
   ]
  },
  {
   "cell_type": "markdown",
   "metadata": {},
   "source": [
    "Step 4: Visualise both the initial polygon and the boxes"
   ]
  },
  {
   "cell_type": "code",
   "execution_count": null,
   "metadata": {},
   "outputs": [],
   "source": [
    "## visualise the initial geometry and the boxes\n",
    "map = folium.Map([48,10], zoom_start=5, tiles='OpenStreetMap')\n",
    "\n",
    "bbox_list=[]\n",
    "for b in divided_boxes:\n",
    "    min_lon, min_lat, max_lon, max_lat = b\n",
    "    bbox = box(min_lon, min_lat, max_lon, max_lat)\n",
    "    bbox_list.append((bbox))\n",
    "    folium.GeoJson(bbox).add_to(map)\n",
    "    \n",
    "\n",
    "folium.GeoJson(geometry,style_function=lambda x: {'fillColor': 'white','color': 'orange'}).add_to(map) \n",
    "\n",
    "map"
   ]
  },
  {
   "cell_type": "markdown",
   "metadata": {},
   "source": [
    "Step 5: Get the bounding box coordinates in a csv file"
   ]
  },
  {
   "cell_type": "code",
   "execution_count": null,
   "metadata": {},
   "outputs": [],
   "source": [
    "# extract the Lat,Lon of the bounding boxes for each polygon \n",
    "\n",
    "s = geopandas.GeoSeries(bbox_list, crs=from_epsg(4326))\n",
    "final=s.get_coordinates(index_parts=True)\n",
    "\n",
    "\n",
    "#Rename the columns and the indexes\n",
    "final=final.rename(columns={\"x\": \"Lon\", \"y\": \"Lat\"})\n",
    "final=final.rename_axis(index=[\"Polygon_id\", \"Tuple_id\"])\n",
    "print(final)\n",
    "\n",
    "#save them to csv file\n",
    "final.to_csv('myfilepath.csv') ##add the path where you would like to store the file\n"
   ]
  }
 ],
 "metadata": {
  "kernelspec": {
   "display_name": "base",
   "language": "python",
   "name": "python3"
  },
  "language_info": {
   "codemirror_mode": {
    "name": "ipython",
    "version": 3
   },
   "file_extension": ".py",
   "mimetype": "text/x-python",
   "name": "python",
   "nbconvert_exporter": "python",
   "pygments_lexer": "ipython3",
   "version": "3.10.9"
  }
 },
 "nbformat": 4,
 "nbformat_minor": 2
}
