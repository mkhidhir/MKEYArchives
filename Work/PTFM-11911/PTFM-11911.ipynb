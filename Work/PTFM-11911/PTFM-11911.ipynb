{
 "cells": [
  {
   "cell_type": "code",
   "execution_count": null,
   "metadata": {},
   "outputs": [],
   "source": [
    "# Users interacting with the v2/trades API need guidance on handling and manipulating JSON responses.\n",
    "\n",
    "# A tutorial is required to show how to convert JSON into a tabular format for easier understanding and usability.\n",
    "\n",
    "# This tutorial will be inserted into the developer portal for easy access."
   ]
  },
  {
   "cell_type": "code",
   "execution_count": null,
   "metadata": {},
   "outputs": [],
   "source": [
    "# JSON Handling: Provide clear instructions on manipulating JSON responses from the v2/trades API.\n",
    "\n",
    "# Tabular Format: Include methods to convert JSON data into a tabular view for easier analysis.\n",
    "\n",
    "# Tutorial Creation: Develop a tutorial with step-by-step instructions, code examples, and visual aids.\n",
    "\n",
    "# Developer Portal Integration: Ensure the tutorial is published and accessible in the developer portal under the relevant section"
   ]
  },
  {
   "cell_type": "code",
   "execution_count": null,
   "metadata": {},
   "outputs": [],
   "source": [
    "import requests\n",
    "import json\n",
    "import pandas as pd\n",
    "from pandas import json_normalize\n",
    "import numpy as np"
   ]
  },
  {
   "cell_type": "code",
   "execution_count": null,
   "metadata": {},
   "outputs": [],
   "source": [
    "\n",
    "#Step 1 : Make a simple API request.\n",
    "\n",
    "URL='https://api.kpler.com/v2/cargo/trades?originDateStart=2024-07-01&originDateEnd=2024-07-31&originZones=Corpus Christi&products=LNG'\n",
    "\n",
    "payload={}\n",
    "headers = {'Authorization': 'Your-API-key'}\n",
    "\n",
    "response=requests.get(URL, headers=headers, data=payload)\n",
    "json_response=response.text\n",
    "print(json_response) ## the output is a json string\n",
    "\n"
   ]
  },
  {
   "cell_type": "code",
   "execution_count": null,
   "metadata": {},
   "outputs": [],
   "source": [
    "#Step 2 : Access the API response from the above request.\n",
    "\n",
    "# Parse the json response and covert it to list\n",
    "data =json.loads(json_response)\n",
    "\n",
    "# Normalise the nested json in a flat table\n",
    "df = json_normalize(data)\n",
    "\n",
    "# Normalise the columns which contain lists of dictionaries\n",
    "for column in df:\n",
    "\n",
    "    if df[column].apply(lambda x: isinstance(x, list)).any():\n",
    "\n",
    "       # Replace empty lists with NaN\n",
    "        df.loc[df[column].apply(lambda x: isinstance(x, list) and len(x) == 0), column] = np.nan\n",
    "\n",
    "    if df[column].apply(lambda x: isinstance(x, list) and len(x) > 0).any():\n",
    "\n",
    "        # Explode the list of dictionaries in each row to separate rows\n",
    "        df_exploded = df.explode(column)\n",
    "\n",
    "        #normalise the columns\n",
    "        column_df = json_normalize(df_exploded[column]).add_prefix(column +'.')\n",
    "\n",
    "        #join the intial dataframe with the new one and drop any non normlised column\n",
    "        df = df_exploded.drop(columns=[column]).join(column_df)\n",
    "\n",
    "\n",
    "#Convert list to string using apply and join\n",
    "for column in df:\n",
    "     df[column] = df[column].apply(lambda x: ', '.join(x) if isinstance(x, list) else x)\n",
    "\n",
    "#Deduplicate the final dataframe\n",
    "df = df.drop_duplicates(keep='first')\n",
    "\n",
    "#Print the final dataframe\n",
    "print(df)\n",
    "\n",
    "#Save the final dataframe to a csv\n",
    "df.to_csv('Your-path')"
   ]
  }
 ],
 "metadata": {
  "kernelspec": {
   "display_name": "base",
   "language": "python",
   "name": "python3"
  },
  "language_info": {
   "codemirror_mode": {
    "name": "ipython",
    "version": 3
   },
   "file_extension": ".py",
   "mimetype": "text/x-python",
   "name": "python",
   "nbconvert_exporter": "python",
   "pygments_lexer": "ipython3",
   "version": "3.10.9"
  }
 },
 "nbformat": 4,
 "nbformat_minor": 2
}
